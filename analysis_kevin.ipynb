{
 "cells": [
  {
   "cell_type": "code",
   "execution_count": 1,
   "metadata": {},
   "outputs": [],
   "source": [
    "# Dependencies and Setup\n",
    "import pandas as pd\n",
    "from matplotlib import pyplot as plt\n",
    "from scipy import stats\n",
    "import numpy as np\n",
    "import seaborn as sns\n"
   ]
  },
  {
   "cell_type": "code",
   "execution_count": 2,
   "metadata": {},
   "outputs": [
    {
     "data": {
      "text/html": [
       "<div>\n",
       "<style scoped>\n",
       "    .dataframe tbody tr th:only-of-type {\n",
       "        vertical-align: middle;\n",
       "    }\n",
       "\n",
       "    .dataframe tbody tr th {\n",
       "        vertical-align: top;\n",
       "    }\n",
       "\n",
       "    .dataframe thead th {\n",
       "        text-align: right;\n",
       "    }\n",
       "</style>\n",
       "<table border=\"1\" class=\"dataframe\">\n",
       "  <thead>\n",
       "    <tr style=\"text-align: right;\">\n",
       "      <th></th>\n",
       "      <th>Unnamed: 0</th>\n",
       "      <th>Colouring</th>\n",
       "      <th>Director</th>\n",
       "      <th>Critic Review Count</th>\n",
       "      <th>Duration</th>\n",
       "      <th>Director Facebook Likes</th>\n",
       "      <th>Actor 3 Facebook Likes</th>\n",
       "      <th>Actor 2</th>\n",
       "      <th>Actor 1 Facebook Likes</th>\n",
       "      <th>Gross</th>\n",
       "      <th>...</th>\n",
       "      <th>Tagline</th>\n",
       "      <th>Overview</th>\n",
       "      <th>Runtime</th>\n",
       "      <th>Production Companies</th>\n",
       "      <th>Release Date</th>\n",
       "      <th>Vote Count</th>\n",
       "      <th>Average Vote</th>\n",
       "      <th>Release Year</th>\n",
       "      <th>Adjusted Budget</th>\n",
       "      <th>Adjusted Revenue</th>\n",
       "    </tr>\n",
       "  </thead>\n",
       "  <tbody>\n",
       "    <tr>\n",
       "      <th>0</th>\n",
       "      <td>0</td>\n",
       "      <td>Color</td>\n",
       "      <td>James Cameron</td>\n",
       "      <td>723.0</td>\n",
       "      <td>178.0</td>\n",
       "      <td>0.0</td>\n",
       "      <td>855.0</td>\n",
       "      <td>Joel David Moore</td>\n",
       "      <td>1000.0</td>\n",
       "      <td>760505847.0</td>\n",
       "      <td>...</td>\n",
       "      <td>Enter the World of Pandora.</td>\n",
       "      <td>In the 22nd century, a paraplegic Marine is di...</td>\n",
       "      <td>162</td>\n",
       "      <td>Ingenious Film Partners|Twentieth Century Fox ...</td>\n",
       "      <td>12/10/2009</td>\n",
       "      <td>8458</td>\n",
       "      <td>7.1</td>\n",
       "      <td>2009</td>\n",
       "      <td>240886902.9</td>\n",
       "      <td>2.827124e+09</td>\n",
       "    </tr>\n",
       "    <tr>\n",
       "      <th>1</th>\n",
       "      <td>1</td>\n",
       "      <td>Color</td>\n",
       "      <td>Gore Verbinski</td>\n",
       "      <td>302.0</td>\n",
       "      <td>169.0</td>\n",
       "      <td>563.0</td>\n",
       "      <td>1000.0</td>\n",
       "      <td>Orlando Bloom</td>\n",
       "      <td>40000.0</td>\n",
       "      <td>309404152.0</td>\n",
       "      <td>...</td>\n",
       "      <td>At the end of the world, the adventure begins.</td>\n",
       "      <td>Captain Barbossa, long believed to be dead, ha...</td>\n",
       "      <td>169</td>\n",
       "      <td>Walt Disney Pictures|Jerry Bruckheimer Films|S...</td>\n",
       "      <td>5/19/2007</td>\n",
       "      <td>2626</td>\n",
       "      <td>6.8</td>\n",
       "      <td>2007</td>\n",
       "      <td>315500574.8</td>\n",
       "      <td>1.010654e+09</td>\n",
       "    </tr>\n",
       "    <tr>\n",
       "      <th>2</th>\n",
       "      <td>2</td>\n",
       "      <td>Color</td>\n",
       "      <td>Sam Mendes</td>\n",
       "      <td>602.0</td>\n",
       "      <td>148.0</td>\n",
       "      <td>0.0</td>\n",
       "      <td>161.0</td>\n",
       "      <td>Rory Kinnear</td>\n",
       "      <td>11000.0</td>\n",
       "      <td>200074175.0</td>\n",
       "      <td>...</td>\n",
       "      <td>A Plan No One Escapes</td>\n",
       "      <td>A cryptic message from Bondâ€™s past sends him...</td>\n",
       "      <td>148</td>\n",
       "      <td>Columbia Pictures|Danjaq|B24</td>\n",
       "      <td>10/26/2015</td>\n",
       "      <td>3254</td>\n",
       "      <td>6.2</td>\n",
       "      <td>2015</td>\n",
       "      <td>225399900.8</td>\n",
       "      <td>8.102203e+08</td>\n",
       "    </tr>\n",
       "    <tr>\n",
       "      <th>3</th>\n",
       "      <td>3</td>\n",
       "      <td>Color</td>\n",
       "      <td>Christopher Nolan</td>\n",
       "      <td>813.0</td>\n",
       "      <td>164.0</td>\n",
       "      <td>22000.0</td>\n",
       "      <td>23000.0</td>\n",
       "      <td>Christian Bale</td>\n",
       "      <td>27000.0</td>\n",
       "      <td>448130642.0</td>\n",
       "      <td>...</td>\n",
       "      <td>The Legend Ends</td>\n",
       "      <td>Following the death of District Attorney Harve...</td>\n",
       "      <td>165</td>\n",
       "      <td>Legendary Pictures|Warner Bros.|DC Entertainme...</td>\n",
       "      <td>7/16/2012</td>\n",
       "      <td>6723</td>\n",
       "      <td>7.5</td>\n",
       "      <td>2012</td>\n",
       "      <td>237436070.3</td>\n",
       "      <td>1.026713e+09</td>\n",
       "    </tr>\n",
       "    <tr>\n",
       "      <th>4</th>\n",
       "      <td>4</td>\n",
       "      <td>Color</td>\n",
       "      <td>Andrew Stanton</td>\n",
       "      <td>462.0</td>\n",
       "      <td>132.0</td>\n",
       "      <td>475.0</td>\n",
       "      <td>530.0</td>\n",
       "      <td>Samantha Morton</td>\n",
       "      <td>640.0</td>\n",
       "      <td>73058679.0</td>\n",
       "      <td>...</td>\n",
       "      <td>Lost in Our World. Found in Another.</td>\n",
       "      <td>Civil War vet John Carter is transplanted to M...</td>\n",
       "      <td>132</td>\n",
       "      <td>Walt Disney Pictures</td>\n",
       "      <td>3/7/2012</td>\n",
       "      <td>1479</td>\n",
       "      <td>6.0</td>\n",
       "      <td>2012</td>\n",
       "      <td>246933513.2</td>\n",
       "      <td>2.698595e+08</td>\n",
       "    </tr>\n",
       "  </tbody>\n",
       "</table>\n",
       "<p>5 rows × 44 columns</p>\n",
       "</div>"
      ],
      "text/plain": [
       "   Unnamed: 0 Colouring           Director  Critic Review Count  Duration  \\\n",
       "0           0     Color      James Cameron                723.0     178.0   \n",
       "1           1     Color     Gore Verbinski                302.0     169.0   \n",
       "2           2     Color         Sam Mendes                602.0     148.0   \n",
       "3           3     Color  Christopher Nolan                813.0     164.0   \n",
       "4           4     Color     Andrew Stanton                462.0     132.0   \n",
       "\n",
       "   Director Facebook Likes  Actor 3 Facebook Likes           Actor 2  \\\n",
       "0                      0.0                   855.0  Joel David Moore   \n",
       "1                    563.0                  1000.0     Orlando Bloom   \n",
       "2                      0.0                   161.0      Rory Kinnear   \n",
       "3                  22000.0                 23000.0    Christian Bale   \n",
       "4                    475.0                   530.0   Samantha Morton   \n",
       "\n",
       "   Actor 1 Facebook Likes        Gross  ...  \\\n",
       "0                  1000.0  760505847.0  ...   \n",
       "1                 40000.0  309404152.0  ...   \n",
       "2                 11000.0  200074175.0  ...   \n",
       "3                 27000.0  448130642.0  ...   \n",
       "4                   640.0   73058679.0  ...   \n",
       "\n",
       "                                          Tagline  \\\n",
       "0                     Enter the World of Pandora.   \n",
       "1  At the end of the world, the adventure begins.   \n",
       "2                           A Plan No One Escapes   \n",
       "3                                 The Legend Ends   \n",
       "4            Lost in Our World. Found in Another.   \n",
       "\n",
       "                                            Overview Runtime  \\\n",
       "0  In the 22nd century, a paraplegic Marine is di...     162   \n",
       "1  Captain Barbossa, long believed to be dead, ha...     169   \n",
       "2  A cryptic message from Bondâ€™s past sends him...     148   \n",
       "3  Following the death of District Attorney Harve...     165   \n",
       "4  Civil War vet John Carter is transplanted to M...     132   \n",
       "\n",
       "                                Production Companies  Release Date Vote Count  \\\n",
       "0  Ingenious Film Partners|Twentieth Century Fox ...    12/10/2009       8458   \n",
       "1  Walt Disney Pictures|Jerry Bruckheimer Films|S...     5/19/2007       2626   \n",
       "2                       Columbia Pictures|Danjaq|B24    10/26/2015       3254   \n",
       "3  Legendary Pictures|Warner Bros.|DC Entertainme...     7/16/2012       6723   \n",
       "4                               Walt Disney Pictures      3/7/2012       1479   \n",
       "\n",
       "   Average Vote Release Year Adjusted Budget  Adjusted Revenue  \n",
       "0           7.1         2009     240886902.9      2.827124e+09  \n",
       "1           6.8         2007     315500574.8      1.010654e+09  \n",
       "2           6.2         2015     225399900.8      8.102203e+08  \n",
       "3           7.5         2012     237436070.3      1.026713e+09  \n",
       "4           6.0         2012     246933513.2      2.698595e+08  \n",
       "\n",
       "[5 rows x 44 columns]"
      ]
     },
     "execution_count": 2,
     "metadata": {},
     "output_type": "execute_result"
    }
   ],
   "source": [
    "# Read Purchasing File and store into Pandas data frame\n",
    "movie = pd.read_csv('../SMU_Project_Group_1/final_data.csv')\n",
    "\n",
    "# Display first 10 rows\n",
    "movie.head()"
   ]
  },
  {
   "cell_type": "code",
   "execution_count": 3,
   "metadata": {},
   "outputs": [
    {
     "name": "stdout",
     "output_type": "stream",
     "text": [
      "<class 'pandas.core.frame.DataFrame'>\n",
      "RangeIndex: 4302 entries, 0 to 4301\n",
      "Data columns (total 44 columns):\n",
      "Unnamed: 0                 4302 non-null int64\n",
      "Colouring                  4295 non-null object\n",
      "Director                   4302 non-null object\n",
      "Critic Review Count        4301 non-null float64\n",
      "Duration                   4302 non-null float64\n",
      "Director Facebook Likes    4302 non-null float64\n",
      "Actor 3 Facebook Likes     4299 non-null float64\n",
      "Actor 2                    4301 non-null object\n",
      "Actor 1 Facebook Likes     4302 non-null float64\n",
      "Gross                      3904 non-null float64\n",
      "Genres                     4302 non-null object\n",
      "Actor 1                    4302 non-null object\n",
      "Title                      4302 non-null object\n",
      "IMDb Votes                 4302 non-null int64\n",
      "Cast Facebook Likes        4302 non-null int64\n",
      "Actor 3                    4299 non-null object\n",
      "Poster Facenumber          4297 non-null float64\n",
      "Plot Keywords              4281 non-null object\n",
      "IMDb Link                  4302 non-null object\n",
      "User Review Count          4302 non-null float64\n",
      "Language                   4300 non-null object\n",
      "Country                    4302 non-null object\n",
      "Countent Rating            4266 non-null object\n",
      "Budget                     4092 non-null float64\n",
      "Actor 2 Facebook Likes     4301 non-null float64\n",
      "IMDb Score                 4302 non-null float64\n",
      "Aspect Ratio               4225 non-null float64\n",
      "Facebook Likes             4302 non-null int64\n",
      "IMDb ID                    4302 non-null object\n",
      "id                         4302 non-null int64\n",
      "Popularity                 4302 non-null float64\n",
      "Revenue                    4302 non-null int64\n",
      "Cast                       4299 non-null object\n",
      "Homepage                   1580 non-null object\n",
      "Tagline                    3870 non-null object\n",
      "Overview                   4302 non-null object\n",
      "Runtime                    4302 non-null int64\n",
      "Production Companies       4193 non-null object\n",
      "Release Date               4302 non-null object\n",
      "Vote Count                 4302 non-null int64\n",
      "Average Vote               4302 non-null float64\n",
      "Release Year               4302 non-null int64\n",
      "Adjusted Budget            4302 non-null float64\n",
      "Adjusted Revenue           4302 non-null float64\n",
      "dtypes: float64(16), int64(9), object(19)\n",
      "memory usage: 1.4+ MB\n"
     ]
    }
   ],
   "source": [
    "movie.info()"
   ]
  },
  {
   "cell_type": "code",
   "execution_count": 4,
   "metadata": {},
   "outputs": [
    {
     "name": "stderr",
     "output_type": "stream",
     "text": [
      "C:\\Users\\Kyoo Ha Cha\\Anaconda3\\lib\\site-packages\\ipykernel_launcher.py:3: SettingWithCopyWarning: \n",
      "A value is trying to be set on a copy of a slice from a DataFrame.\n",
      "Try using .loc[row_indexer,col_indexer] = value instead\n",
      "\n",
      "See the caveats in the documentation: http://pandas.pydata.org/pandas-docs/stable/indexing.html#indexing-view-versus-copy\n",
      "  This is separate from the ipykernel package so we can avoid doing imports until\n",
      "C:\\Users\\Kyoo Ha Cha\\Anaconda3\\lib\\site-packages\\seaborn\\categorical.py:3666: UserWarning: The `factorplot` function has been renamed to `catplot`. The original name will be removed in a future release. Please update your code. Note that the default `kind` in `factorplot` (`'point'`) has changed `'strip'` in `catplot`.\n",
      "  warnings.warn(msg)\n",
      "C:\\Users\\Kyoo Ha Cha\\Anaconda3\\lib\\site-packages\\seaborn\\categorical.py:3672: UserWarning: The `size` paramter has been renamed to `height`; please update your code.\n",
      "  warnings.warn(msg, UserWarning)\n"
     ]
    },
    {
     "data": {
      "text/plain": [
       "(array([ 0,  1,  2,  3,  4,  5,  6,  7,  8,  9, 10, 11, 12, 13, 14, 15, 16,\n",
       "        17, 18, 19, 20, 21, 22, 23, 24, 25, 26, 27, 28, 29, 30, 31, 32, 33,\n",
       "        34, 35, 36, 37, 38, 39, 40, 41, 42, 43, 44, 45, 46, 47, 48, 49, 50,\n",
       "        51, 52, 53, 54, 55]), <a list of 56 Text xticklabel objects>)"
      ]
     },
     "execution_count": 4,
     "metadata": {},
     "output_type": "execute_result"
    },
    {
     "data": {
      "image/png": "[encoded data removed]",
      "text/plain": [
       "<Figure size 576x576 with 1 Axes>"
      ]
     },
     "metadata": {
      "needs_background": "light"
     },
     "output_type": "display_data"
    }
   ],
   "source": [
    "title_year_df = movie[['Release Year','IMDb Score']]\n",
    "\n",
    "title_year_df['Release Year'] = title_year_df['Release Year'].astype(int)\n",
    "sns.factorplot(y='IMDb Score',x='Release Year',data=title_year_df,kind='box', size=8)\n",
    "plt.xticks(rotation=45)\n"
   ]
  },
  {
   "cell_type": "code",
   "execution_count": 5,
   "metadata": {},
   "outputs": [
    {
     "name": "stdout",
     "output_type": "stream",
     "text": [
      "There are 234 movies with score greater or equal to 8\n",
      "The highest score is 9.3\n"
     ]
    },
    {
     "data": {
      "image/png": "[encoded data removed]",
      "text/plain": [
       "<Figure size 432x288 with 1 Axes>"
      ]
     },
     "metadata": {
      "needs_background": "light"
     },
     "output_type": "display_data"
    }
   ],
   "source": [
    "movie.hist(column='IMDb Score')\n",
    "print(f\"There are {len(movie[(movie['IMDb Score'] >= 8)])} movies with score greater or equal to 8\")\n",
    "print(f\"The highest score is {movie['IMDb Score'].max()}\")\n",
    "#IMDB score looks normal.\n",
    "#And we can consider movies with a score greater or equal to 8 a great movie from many perspectives."
   ]
  },
  {
   "cell_type": "code",
   "execution_count": 6,
   "metadata": {},
   "outputs": [
    {
     "data": {
      "text/plain": [
       "Unnamed: 0                    0\n",
       "Colouring                     7\n",
       "Director                      0\n",
       "Critic Review Count           1\n",
       "Duration                      0\n",
       "Director Facebook Likes       0\n",
       "Actor 3 Facebook Likes        3\n",
       "Actor 2                       1\n",
       "Actor 1 Facebook Likes        0\n",
       "Gross                       398\n",
       "Genres                        0\n",
       "Actor 1                       0\n",
       "Title                         0\n",
       "IMDb Votes                    0\n",
       "Cast Facebook Likes           0\n",
       "Actor 3                       3\n",
       "Poster Facenumber             5\n",
       "Plot Keywords                21\n",
       "IMDb Link                     0\n",
       "User Review Count             0\n",
       "Language                      2\n",
       "Country                       0\n",
       "Countent Rating              36\n",
       "Budget                      210\n",
       "Actor 2 Facebook Likes        1\n",
       "IMDb Score                    0\n",
       "Aspect Ratio                 77\n",
       "Facebook Likes                0\n",
       "IMDb ID                       0\n",
       "id                            0\n",
       "Popularity                    0\n",
       "Revenue                       0\n",
       "Cast                          3\n",
       "Homepage                   2722\n",
       "Tagline                     432\n",
       "Overview                      0\n",
       "Runtime                       0\n",
       "Production Companies        109\n",
       "Release Date                  0\n",
       "Vote Count                    0\n",
       "Average Vote                  0\n",
       "Release Year                  0\n",
       "Adjusted Budget               0\n",
       "Adjusted Revenue              0\n",
       "dtype: int64"
      ]
     },
     "execution_count": 6,
     "metadata": {},
     "output_type": "execute_result"
    }
   ],
   "source": [
    "movie.isnull().sum()"
   ]
  },
  {
   "cell_type": "code",
   "execution_count": 7,
   "metadata": {},
   "outputs": [
    {
     "data": {
      "image/png": "[encoded data removed]",
      "text/plain": [
       "<Figure size 864x648 with 2 Axes>"
      ]
     },
     "metadata": {},
     "output_type": "display_data"
    }
   ],
   "source": [
    "title_font = { 'weight' : 'bold','size':'16'}\n",
    "numeric_features=movie._get_numeric_data().columns.values.tolist()\n",
    "import seaborn as sns\n",
    "import matplotlib.pyplot as plt\n",
    "def corrmap(features, title):\n",
    "    sns.set(context=\"paper\", font=\"monospace\")\n",
    "    corrmat = movie[features].corr()\n",
    "    f, ax = plt.subplots(figsize=(12, 9))\n",
    "    plt.title(title, **title_font)\n",
    "# Draw the heatmap using seaborn\n",
    "    sns.heatmap(corrmat, vmax=.8, square=True)\n",
    "corrmap(numeric_features,\"Correlation matrix for numeric features\")"
   ]
  },
  {
   "cell_type": "code",
   "execution_count": 8,
   "metadata": {},
   "outputs": [
    {
     "name": "stdout",
     "output_type": "stream",
     "text": [
      "[('Critic Review Count', (nan, 1.0)), ('Duration', (0.3677794094134503, 6.622930606969264e-138)), ('Actor 3 Facebook Likes', (nan, 1.0)), ('Gross', (nan, 1.0)), ('Poster Facenumber', (nan, 1.0)), ('Budget', (nan, 1.0)), ('Actor 2 Facebook Likes', (nan, 1.0)), ('IMDb Score', (1.0, 0.0)), ('Aspect Ratio', (nan, 1.0)), ('Average Vote', (0.7943534780597861, 0.0)), ('IMDb Votes', (0.4718251095187761, 1.8795718736354362e-237)), ('User Review Count', (0.3229226697677662, 5.5794629535328505e-105)), ('Vote Count', (0.32205772144958916, 2.133637156118181e-104)), ('Runtime', (0.32198975175812533, 2.3703678560479732e-104)), ('Popularity', (0.2546890384170717, 1.1376106934840425e-64)), ('Facebook Likes', (0.24914482382723677, 7.087705256124281e-62)), ('Adjusted Revenue', (0.2262515683084814, 4.6169627188693574e-51)), ('Revenue', (0.18392789836311826, 4.823202481439579e-34)), ('Director Facebook Likes', (0.17631567371990886, 2.2277815729147825e-31)), ('Cast Facebook Likes', (0.10652223956198728, 2.4758408239571964e-12)), ('Actor 1 Facebook Likes', (0.09275745323086816, 1.0922996450381324e-09)), ('Adjusted Budget', (0.05573499152381937, 0.0002547684287026835)), ('Unnamed: 0', (0.017181852951987903, 0.2598663371746109)), ('id', (-0.11382182341732293, 7.008754351041781e-14)), ('Release Year', (-0.17325330510415793, 2.4346771389715382e-30))]\n"
     ]
    }
   ],
   "source": [
    "import operator\n",
    "labels=movie[\"IMDb Score\"]\n",
    "from scipy.stats import pearsonr\n",
    "correl={}\n",
    "for f in numeric_features:\n",
    "    correl[f]=pearsonr(movie[f], labels)\n",
    "sorted_cor = sorted(correl.items(), key=operator.itemgetter(1), reverse=True)\n",
    "print (sorted_cor)"
   ]
  },
  {
   "cell_type": "code",
   "execution_count": null,
   "metadata": {},
   "outputs": [],
   "source": []
  },
  {
   "cell_type": "code",
   "execution_count": null,
   "metadata": {},
   "outputs": [],
   "source": []
  },
  {
   "cell_type": "code",
   "execution_count": 9,
   "metadata": {},
   "outputs": [],
   "source": [
    "#The coefficient of 3.634 means that as the Adjusted Revenue variable increases by 1, the predicted value of MDEV increases by 1.12e-09. \n",
    "#A few other important values are the R-squared — the percentage of variance our model explains; the standard error \n",
    "#(is the standard deviation of the sampling distribution of a statistic, most commonly of the mean); \n",
    "#the t scores and p-values, for hypothesis test — the RM has statistically significant p-value; \n",
    "#there is a 95% confidence intervals for the RM (meaning we predict at a 95% percent confidence \n",
    "#that the value of RM is between 8.86e-10 to 1.11e-09)."
   ]
  },
  {
   "cell_type": "code",
   "execution_count": null,
   "metadata": {},
   "outputs": [],
   "source": []
  },
  {
   "cell_type": "code",
   "execution_count": 10,
   "metadata": {},
   "outputs": [
    {
     "data": {
      "text/html": [
       "<div>\n",
       "<style scoped>\n",
       "    .dataframe tbody tr th:only-of-type {\n",
       "        vertical-align: middle;\n",
       "    }\n",
       "\n",
       "    .dataframe tbody tr th {\n",
       "        vertical-align: top;\n",
       "    }\n",
       "\n",
       "    .dataframe thead th {\n",
       "        text-align: right;\n",
       "    }\n",
       "</style>\n",
       "<table border=\"1\" class=\"dataframe\">\n",
       "  <thead>\n",
       "    <tr style=\"text-align: right;\">\n",
       "      <th></th>\n",
       "      <th>Unnamed: 0</th>\n",
       "      <th>Colouring</th>\n",
       "      <th>Director</th>\n",
       "      <th>Critic Review Count</th>\n",
       "      <th>Duration</th>\n",
       "      <th>Director Facebook Likes</th>\n",
       "      <th>Actor 3 Facebook Likes</th>\n",
       "      <th>Actor 2</th>\n",
       "      <th>Actor 1 Facebook Likes</th>\n",
       "      <th>Gross</th>\n",
       "      <th>...</th>\n",
       "      <th>Runtime</th>\n",
       "      <th>Production Companies</th>\n",
       "      <th>Release Date</th>\n",
       "      <th>Vote Count</th>\n",
       "      <th>Average Vote</th>\n",
       "      <th>Release Year</th>\n",
       "      <th>Adjusted Budget</th>\n",
       "      <th>Adjusted Revenue</th>\n",
       "      <th>profit</th>\n",
       "      <th>roi</th>\n",
       "    </tr>\n",
       "  </thead>\n",
       "  <tbody>\n",
       "    <tr>\n",
       "      <th>0</th>\n",
       "      <td>0</td>\n",
       "      <td>Color</td>\n",
       "      <td>James Cameron</td>\n",
       "      <td>723.0</td>\n",
       "      <td>178.0</td>\n",
       "      <td>0.0</td>\n",
       "      <td>855.0</td>\n",
       "      <td>Joel David Moore</td>\n",
       "      <td>1000.0</td>\n",
       "      <td>760505847.0</td>\n",
       "      <td>...</td>\n",
       "      <td>162</td>\n",
       "      <td>Ingenious Film Partners|Twentieth Century Fox ...</td>\n",
       "      <td>12/10/2009</td>\n",
       "      <td>8458</td>\n",
       "      <td>7.1</td>\n",
       "      <td>2009</td>\n",
       "      <td>240886902.9</td>\n",
       "      <td>2.827124e+09</td>\n",
       "      <td>523505847.0</td>\n",
       "      <td>120.888543</td>\n",
       "    </tr>\n",
       "    <tr>\n",
       "      <th>1</th>\n",
       "      <td>1</td>\n",
       "      <td>Color</td>\n",
       "      <td>Gore Verbinski</td>\n",
       "      <td>302.0</td>\n",
       "      <td>169.0</td>\n",
       "      <td>563.0</td>\n",
       "      <td>1000.0</td>\n",
       "      <td>Orlando Bloom</td>\n",
       "      <td>40000.0</td>\n",
       "      <td>309404152.0</td>\n",
       "      <td>...</td>\n",
       "      <td>169</td>\n",
       "      <td>Walt Disney Pictures|Jerry Bruckheimer Films|S...</td>\n",
       "      <td>5/19/2007</td>\n",
       "      <td>2626</td>\n",
       "      <td>6.8</td>\n",
       "      <td>2007</td>\n",
       "      <td>315500574.8</td>\n",
       "      <td>1.010654e+09</td>\n",
       "      <td>9404152.0</td>\n",
       "      <td>-96.865283</td>\n",
       "    </tr>\n",
       "    <tr>\n",
       "      <th>2</th>\n",
       "      <td>2</td>\n",
       "      <td>Color</td>\n",
       "      <td>Sam Mendes</td>\n",
       "      <td>602.0</td>\n",
       "      <td>148.0</td>\n",
       "      <td>0.0</td>\n",
       "      <td>161.0</td>\n",
       "      <td>Rory Kinnear</td>\n",
       "      <td>11000.0</td>\n",
       "      <td>200074175.0</td>\n",
       "      <td>...</td>\n",
       "      <td>148</td>\n",
       "      <td>Columbia Pictures|Danjaq|B24</td>\n",
       "      <td>10/26/2015</td>\n",
       "      <td>3254</td>\n",
       "      <td>6.2</td>\n",
       "      <td>2015</td>\n",
       "      <td>225399900.8</td>\n",
       "      <td>8.102203e+08</td>\n",
       "      <td>-44925825.0</td>\n",
       "      <td>-118.337071</td>\n",
       "    </tr>\n",
       "    <tr>\n",
       "      <th>3</th>\n",
       "      <td>3</td>\n",
       "      <td>Color</td>\n",
       "      <td>Christopher Nolan</td>\n",
       "      <td>813.0</td>\n",
       "      <td>164.0</td>\n",
       "      <td>22000.0</td>\n",
       "      <td>23000.0</td>\n",
       "      <td>Christian Bale</td>\n",
       "      <td>27000.0</td>\n",
       "      <td>448130642.0</td>\n",
       "      <td>...</td>\n",
       "      <td>165</td>\n",
       "      <td>Legendary Pictures|Warner Bros.|DC Entertainme...</td>\n",
       "      <td>7/16/2012</td>\n",
       "      <td>6723</td>\n",
       "      <td>7.5</td>\n",
       "      <td>2012</td>\n",
       "      <td>237436070.3</td>\n",
       "      <td>1.026713e+09</td>\n",
       "      <td>198130642.0</td>\n",
       "      <td>-20.747743</td>\n",
       "    </tr>\n",
       "    <tr>\n",
       "      <th>4</th>\n",
       "      <td>4</td>\n",
       "      <td>Color</td>\n",
       "      <td>Andrew Stanton</td>\n",
       "      <td>462.0</td>\n",
       "      <td>132.0</td>\n",
       "      <td>475.0</td>\n",
       "      <td>530.0</td>\n",
       "      <td>Samantha Morton</td>\n",
       "      <td>640.0</td>\n",
       "      <td>73058679.0</td>\n",
       "      <td>...</td>\n",
       "      <td>132</td>\n",
       "      <td>Walt Disney Pictures</td>\n",
       "      <td>3/7/2012</td>\n",
       "      <td>1479</td>\n",
       "      <td>6.0</td>\n",
       "      <td>2012</td>\n",
       "      <td>246933513.2</td>\n",
       "      <td>2.698595e+08</td>\n",
       "      <td>-190641321.0</td>\n",
       "      <td>-172.294775</td>\n",
       "    </tr>\n",
       "  </tbody>\n",
       "</table>\n",
       "<p>5 rows × 46 columns</p>\n",
       "</div>"
      ],
      "text/plain": [
       "   Unnamed: 0 Colouring           Director  Critic Review Count  Duration  \\\n",
       "0           0     Color      James Cameron                723.0     178.0   \n",
       "1           1     Color     Gore Verbinski                302.0     169.0   \n",
       "2           2     Color         Sam Mendes                602.0     148.0   \n",
       "3           3     Color  Christopher Nolan                813.0     164.0   \n",
       "4           4     Color     Andrew Stanton                462.0     132.0   \n",
       "\n",
       "   Director Facebook Likes  Actor 3 Facebook Likes           Actor 2  \\\n",
       "0                      0.0                   855.0  Joel David Moore   \n",
       "1                    563.0                  1000.0     Orlando Bloom   \n",
       "2                      0.0                   161.0      Rory Kinnear   \n",
       "3                  22000.0                 23000.0    Christian Bale   \n",
       "4                    475.0                   530.0   Samantha Morton   \n",
       "\n",
       "   Actor 1 Facebook Likes        Gross  ... Runtime  \\\n",
       "0                  1000.0  760505847.0  ...     162   \n",
       "1                 40000.0  309404152.0  ...     169   \n",
       "2                 11000.0  200074175.0  ...     148   \n",
       "3                 27000.0  448130642.0  ...     165   \n",
       "4                   640.0   73058679.0  ...     132   \n",
       "\n",
       "                                Production Companies Release Date  Vote Count  \\\n",
       "0  Ingenious Film Partners|Twentieth Century Fox ...   12/10/2009        8458   \n",
       "1  Walt Disney Pictures|Jerry Bruckheimer Films|S...    5/19/2007        2626   \n",
       "2                       Columbia Pictures|Danjaq|B24   10/26/2015        3254   \n",
       "3  Legendary Pictures|Warner Bros.|DC Entertainme...    7/16/2012        6723   \n",
       "4                               Walt Disney Pictures     3/7/2012        1479   \n",
       "\n",
       "   Average Vote Release Year  Adjusted Budget Adjusted Revenue       profit  \\\n",
       "0           7.1         2009      240886902.9     2.827124e+09  523505847.0   \n",
       "1           6.8         2007      315500574.8     1.010654e+09    9404152.0   \n",
       "2           6.2         2015      225399900.8     8.102203e+08  -44925825.0   \n",
       "3           7.5         2012      237436070.3     1.026713e+09  198130642.0   \n",
       "4           6.0         2012      246933513.2     2.698595e+08 -190641321.0   \n",
       "\n",
       "          roi  \n",
       "0  120.888543  \n",
       "1  -96.865283  \n",
       "2 -118.337071  \n",
       "3  -20.747743  \n",
       "4 -172.294775  \n",
       "\n",
       "[5 rows x 46 columns]"
      ]
     },
     "execution_count": 10,
     "metadata": {},
     "output_type": "execute_result"
    }
   ],
   "source": [
    "#Let's also calculate the return on investment (ROI) and absolute profit for each movie. \n",
    "#The ROI will show which movie studio earned the greatest profit based on their initial budget for the movie, \n",
    "#and will be useful in evaluating the sucess of a film in an economic sense. We will be storing the ROI values as percentages.\n",
    "profits = []\n",
    "roi_vals = []\n",
    "\n",
    "for index, row in movie.iterrows():\n",
    "    profit = row['Gross'] - row['Budget']\n",
    "    budget = row['Budget']\n",
    "    num = profit - budget\n",
    "    den = budget\n",
    "    # convert roi to percentage\n",
    "    roi = (num / den) * 100\n",
    "    \n",
    "    profits.append(profit)\n",
    "    roi_vals.append(roi)\n",
    "    \n",
    "movie['profit'] = profits\n",
    "movie['roi'] = roi_vals\n",
    "\n",
    "movie.head()"
   ]
  },
  {
   "cell_type": "code",
   "execution_count": 11,
   "metadata": {},
   "outputs": [
    {
     "name": "stdout",
     "output_type": "stream",
     "text": [
      "Paranormal Activity 719248.5533333333\n",
      "The Blair Witch Project 234016.85666666666\n",
      "The Texas Chain Saw Massacre 36742.72853517215\n",
      "The Texas Chain Saw Massacre 36742.72853517215\n",
      "The Texas Chain Saw Massacre 36742.72853517215\n"
     ]
    }
   ],
   "source": [
    "# Analyze which films brought studios the most bang for their buck.\n",
    "movies_by_roi = movie.sort_values('roi', ascending=False)\n",
    "\n",
    "for index, row in movies_by_roi.head().iterrows():\n",
    "    print(row[\"Title\"], row[\"roi\"])\n"
   ]
  },
  {
   "cell_type": "code",
   "execution_count": 12,
   "metadata": {},
   "outputs": [
    {
     "name": "stdout",
     "output_type": "stream",
     "text": [
      "107917283.0\n",
      "15000.0\n",
      "Horror\n",
      "Horror\n"
     ]
    },
    {
     "ename": "ValueError",
     "evalue": "can only convert an array of size 1 to a Python scalar",
     "output_type": "error",
     "traceback": [
      "\u001b[1;31m---------------------------------------------------------------------------\u001b[0m",
      "\u001b[1;31mValueError\u001b[0m                                Traceback (most recent call last)",
      "\u001b[1;32m<ipython-input-12-dcc13da2a549>\u001b[0m in \u001b[0;36m<module>\u001b[1;34m\u001b[0m\n\u001b[0;32m      3\u001b[0m \u001b[0mprint\u001b[0m\u001b[1;33m(\u001b[0m\u001b[0mmovie\u001b[0m\u001b[1;33m.\u001b[0m\u001b[0mloc\u001b[0m\u001b[1;33m[\u001b[0m\u001b[0mmovie\u001b[0m\u001b[1;33m[\u001b[0m\u001b[1;34m'Title'\u001b[0m\u001b[1;33m]\u001b[0m \u001b[1;33m==\u001b[0m \u001b[1;34m'Paranormal Activity'\u001b[0m\u001b[1;33m,\u001b[0m \u001b[1;34m'Genres'\u001b[0m\u001b[1;33m]\u001b[0m\u001b[1;33m.\u001b[0m\u001b[0mitem\u001b[0m\u001b[1;33m(\u001b[0m\u001b[1;33m)\u001b[0m\u001b[1;33m)\u001b[0m\u001b[1;33m\u001b[0m\u001b[1;33m\u001b[0m\u001b[0m\n\u001b[0;32m      4\u001b[0m \u001b[0mprint\u001b[0m\u001b[1;33m(\u001b[0m\u001b[0mmovie\u001b[0m\u001b[1;33m.\u001b[0m\u001b[0mloc\u001b[0m\u001b[1;33m[\u001b[0m\u001b[0mmovie\u001b[0m\u001b[1;33m[\u001b[0m\u001b[1;34m'Title'\u001b[0m\u001b[1;33m]\u001b[0m \u001b[1;33m==\u001b[0m \u001b[1;34m'The Blair Witch Project'\u001b[0m\u001b[1;33m,\u001b[0m \u001b[1;34m'Genres'\u001b[0m\u001b[1;33m]\u001b[0m\u001b[1;33m.\u001b[0m\u001b[0mitem\u001b[0m\u001b[1;33m(\u001b[0m\u001b[1;33m)\u001b[0m\u001b[1;33m)\u001b[0m\u001b[1;33m\u001b[0m\u001b[1;33m\u001b[0m\u001b[0m\n\u001b[1;32m----> 5\u001b[1;33m \u001b[0mprint\u001b[0m\u001b[1;33m(\u001b[0m\u001b[0mmovie\u001b[0m\u001b[1;33m.\u001b[0m\u001b[0mloc\u001b[0m\u001b[1;33m[\u001b[0m\u001b[0mmovie\u001b[0m\u001b[1;33m[\u001b[0m\u001b[1;34m'Title'\u001b[0m\u001b[1;33m]\u001b[0m \u001b[1;33m==\u001b[0m \u001b[1;34m'The Texas Chain*'\u001b[0m\u001b[1;33m,\u001b[0m \u001b[1;34m'Genres'\u001b[0m\u001b[1;33m]\u001b[0m\u001b[1;33m.\u001b[0m\u001b[0mitem\u001b[0m\u001b[1;33m(\u001b[0m\u001b[1;33m)\u001b[0m\u001b[1;33m)\u001b[0m\u001b[1;33m\u001b[0m\u001b[1;33m\u001b[0m\u001b[0m\n\u001b[0m",
      "\u001b[1;32m~\\Anaconda3\\lib\\site-packages\\pandas\\core\\base.py\u001b[0m in \u001b[0;36mitem\u001b[1;34m(self)\u001b[0m\n\u001b[0;32m    714\u001b[0m         \"\"\"\n\u001b[0;32m    715\u001b[0m         \u001b[1;32mtry\u001b[0m\u001b[1;33m:\u001b[0m\u001b[1;33m\u001b[0m\u001b[1;33m\u001b[0m\u001b[0m\n\u001b[1;32m--> 716\u001b[1;33m             \u001b[1;32mreturn\u001b[0m \u001b[0mself\u001b[0m\u001b[1;33m.\u001b[0m\u001b[0mvalues\u001b[0m\u001b[1;33m.\u001b[0m\u001b[0mitem\u001b[0m\u001b[1;33m(\u001b[0m\u001b[1;33m)\u001b[0m\u001b[1;33m\u001b[0m\u001b[1;33m\u001b[0m\u001b[0m\n\u001b[0m\u001b[0;32m    717\u001b[0m         \u001b[1;32mexcept\u001b[0m \u001b[0mIndexError\u001b[0m\u001b[1;33m:\u001b[0m\u001b[1;33m\u001b[0m\u001b[1;33m\u001b[0m\u001b[0m\n\u001b[0;32m    718\u001b[0m             \u001b[1;31m# copy numpy's message here because Py26 raises an IndexError\u001b[0m\u001b[1;33m\u001b[0m\u001b[1;33m\u001b[0m\u001b[1;33m\u001b[0m\u001b[0m\n",
      "\u001b[1;31mValueError\u001b[0m: can only convert an array of size 1 to a Python scalar"
     ]
    }
   ],
   "source": [
    "print(movie.loc[movie['Title'] == 'Paranormal Activity', 'Gross'].item())\n",
    "print(movie.loc[movie['Title'] == 'Paranormal Activity', 'Budget'].item())\n",
    "print(movie.loc[movie['Title'] == 'Paranormal Activity', 'Genres'].item())\n",
    "print(movie.loc[movie['Title'] == 'The Blair Witch Project', 'Genres'].item())\n",
    "#print(movie.loc[movie['Title'] == 'The Texas Chain*', 'Genres'].item())\n"
   ]
  },
  {
   "cell_type": "code",
   "execution_count": 13,
   "metadata": {},
   "outputs": [
    {
     "data": {
      "text/plain": [
       "4302"
      ]
     },
     "execution_count": 13,
     "metadata": {},
     "output_type": "execute_result"
    }
   ],
   "source": [
    "#Found duplicated data entries of The Texas Chain Saw Massacre\n",
    "len(movie)"
   ]
  },
  {
   "cell_type": "code",
   "execution_count": null,
   "metadata": {},
   "outputs": [],
   "source": [
    "# Index number 3381, 3382, 3383 are the same data entries"
   ]
  },
  {
   "cell_type": "code",
   "execution_count": 14,
   "metadata": {},
   "outputs": [],
   "source": [
    "movie = movie.drop([3381 , 3382,3383])"
   ]
  },
  {
   "cell_type": "code",
   "execution_count": 15,
   "metadata": {},
   "outputs": [
    {
     "data": {
      "text/plain": [
       "4299"
      ]
     },
     "execution_count": 15,
     "metadata": {},
     "output_type": "execute_result"
    }
   ],
   "source": [
    "len(movie)"
   ]
  },
  {
   "cell_type": "code",
   "execution_count": 16,
   "metadata": {},
   "outputs": [
    {
     "name": "stdout",
     "output_type": "stream",
     "text": [
      "Paranormal Activity 719248.5533333333\n",
      "The Blair Witch Project 234016.85666666666\n",
      "The Texas Chain Saw Massacre 36742.72853517215\n",
      "El Mariachi 28956.0\n",
      "The Gallows 22557.819\n"
     ]
    }
   ],
   "source": [
    "# Re-Run return on investment analysis \n",
    "# Analyze which films brought studios the most bang for their buck.\n",
    "movies_by_roi = movie.sort_values('roi', ascending=False)\n",
    "\n",
    "for index, row in movies_by_roi.head().iterrows():\n",
    "    print(row[\"Title\"], row[\"roi\"])"
   ]
  },
  {
   "cell_type": "code",
   "execution_count": 17,
   "metadata": {},
   "outputs": [
    {
     "name": "stdout",
     "output_type": "stream",
     "text": [
      "Gross: $107917283.0\n",
      "Budge: $15000.0\n",
      "Horror\n",
      "Horror\n",
      "Horror\n",
      "Action\n",
      "Horror\n"
     ]
    }
   ],
   "source": [
    "print(f\"Gross: ${movie.loc[movie['Title'] == 'Paranormal Activity', 'Gross'].item()}\")\n",
    "print(f\"Budge: ${movie.loc[movie['Title'] == 'Paranormal Activity', 'Budget'].item()}\")\n",
    "print(movie.loc[movie['Title'] == 'Paranormal Activity', 'Genres'].item())\n",
    "print(movie.loc[movie['Title'] == 'The Blair Witch Project', 'Genres'].item())\n",
    "print(movie.loc[movie['Title'] == 'The Texas Chain Saw Massacre', 'Genres'].item())\n",
    "print(movie.loc[movie['Title'] == 'El Mariachi', 'Genres'].item())\n",
    "print(movie.loc[movie['Title'] == 'The Gallows', 'Genres'].item())\n",
    "#Paranormal Activity yielded the greatest return on investment.\n",
    "#With a budget of around $15,000, it grossed $107,917,283 at the box office during its run in 2010. \n",
    "#Also 4 of top 5 movies are horror movies"
   ]
  },
  {
   "cell_type": "code",
   "execution_count": 19,
   "metadata": {},
   "outputs": [
    {
     "data": {
      "text/html": [
       "<div>\n",
       "<style scoped>\n",
       "    .dataframe tbody tr th:only-of-type {\n",
       "        vertical-align: middle;\n",
       "    }\n",
       "\n",
       "    .dataframe tbody tr th {\n",
       "        vertical-align: top;\n",
       "    }\n",
       "\n",
       "    .dataframe thead th {\n",
       "        text-align: right;\n",
       "    }\n",
       "</style>\n",
       "<table border=\"1\" class=\"dataframe\">\n",
       "  <thead>\n",
       "    <tr style=\"text-align: right;\">\n",
       "      <th></th>\n",
       "      <th>Title</th>\n",
       "      <th>roi</th>\n",
       "      <th>IMDb Score</th>\n",
       "    </tr>\n",
       "  </thead>\n",
       "  <tbody>\n",
       "    <tr>\n",
       "      <th>4226</th>\n",
       "      <td>Paranormal Activity</td>\n",
       "      <td>719248.553333</td>\n",
       "      <td>6.3</td>\n",
       "    </tr>\n",
       "    <tr>\n",
       "      <th>4201</th>\n",
       "      <td>The Blair Witch Project</td>\n",
       "      <td>234016.856667</td>\n",
       "      <td>6.4</td>\n",
       "    </tr>\n",
       "    <tr>\n",
       "      <th>3380</th>\n",
       "      <td>The Texas Chain Saw Massacre</td>\n",
       "      <td>36742.728535</td>\n",
       "      <td>7.5</td>\n",
       "    </tr>\n",
       "    <tr>\n",
       "      <th>4301</th>\n",
       "      <td>El Mariachi</td>\n",
       "      <td>28956.000000</td>\n",
       "      <td>6.9</td>\n",
       "    </tr>\n",
       "    <tr>\n",
       "      <th>4274</th>\n",
       "      <td>The Gallows</td>\n",
       "      <td>22557.819000</td>\n",
       "      <td>4.2</td>\n",
       "    </tr>\n",
       "  </tbody>\n",
       "</table>\n",
       "</div>"
      ],
      "text/plain": [
       "                             Title            roi  IMDb Score\n",
       "4226           Paranormal Activity  719248.553333         6.3\n",
       "4201       The Blair Witch Project  234016.856667         6.4\n",
       "3380  The Texas Chain Saw Massacre   36742.728535         7.5\n",
       "4301                   El Mariachi   28956.000000         6.9\n",
       "4274                   The Gallows   22557.819000         4.2"
      ]
     },
     "execution_count": 19,
     "metadata": {},
     "output_type": "execute_result"
    }
   ],
   "source": [
    "movies_by_roi[[\"Title\",\"roi\",\"IMDb Score\"]].head()"
   ]
  },
  {
   "cell_type": "code",
   "execution_count": 23,
   "metadata": {},
   "outputs": [
    {
     "name": "stdout",
     "output_type": "stream",
     "text": [
      "The Shawshank Redemption 9.3 Crime\n",
      "The Godfather 9.2 Crime\n",
      "The Dark Knight 9.0 Action\n",
      "The Godfather: Part II 9.0 Crime\n",
      "Pulp Fiction 8.9 Crime\n"
     ]
    }
   ],
   "source": [
    "movies_by_score = movie.sort_values('IMDb Score', ascending=False)\n",
    "\n",
    "for index, row in movies_by_score.head().iterrows():\n",
    "    print(row[\"Title\"], row[\"IMDb Score\"], row[\"Genres\"])\n",
    "# Genres with top 5 score are Crime and Action"
   ]
  },
  {
   "cell_type": "code",
   "execution_count": 30,
   "metadata": {},
   "outputs": [
    {
     "data": {
      "text/plain": [
       "(array([0, 1, 2, 3, 4]), <a list of 5 Text xticklabel objects>)"
      ]
     },
     "execution_count": 30,
     "metadata": {},
     "output_type": "execute_result"
    },
    {
     "data": {
      "image/png": "[encoded data removed]",
      "text/plain": [
       "<Figure size 432x288 with 1 Axes>"
      ]
     },
     "metadata": {},
     "output_type": "display_data"
    }
   ],
   "source": [
    "#Language Comparison\n",
    "tmp = movie['Language'].value_counts()\n",
    "language_list = tmp[tmp>3].index.tolist()\n",
    "sns.boxplot(y='IMDb Score',x='Language',data=movie[movie['Language'].isin(language_list)])\n",
    "plt.xticks(rotation=45)"
   ]
  },
  {
   "cell_type": "code",
   "execution_count": 32,
   "metadata": {},
   "outputs": [],
   "source": [
    "# Extract individual groups\n",
    "group1 = movie[movie[\"Language\"] == \"English\"][\"IMDb Score\"]\n",
    "group2 = movie[movie[\"Language\"] == \"Spanish\"][\"IMDb Score\"]\n",
    "group3 = movie[movie[\"Language\"] == \"French\"][\"IMDb Score\"]\n",
    "group4 = movie[movie[\"Language\"] == \"Hindi\"][\"IMDb Score\"]\n",
    "group5 = movie[movie[\"Language\"] == \"Mandarin\"][\"IMDb Score\"]"
   ]
  },
  {
   "cell_type": "code",
   "execution_count": 33,
   "metadata": {},
   "outputs": [
    {
     "data": {
      "text/plain": [
       "F_onewayResult(statistic=4.47062889909997, pvalue=0.0013206230639386082)"
      ]
     },
     "execution_count": 33,
     "metadata": {},
     "output_type": "execute_result"
    }
   ],
   "source": [
    "# Perform the ANOVA\n",
    "stats.f_oneway(group1, group2, group3, group4, group5)"
   ]
  },
  {
   "cell_type": "code",
   "execution_count": null,
   "metadata": {},
   "outputs": [],
   "source": []
  }
 ],
 "metadata": {
  "kernelspec": {
   "display_name": "Python 3",
   "language": "python",
   "name": "python3"
  },
  "language_info": {
   "codemirror_mode": {
    "name": "ipython",
    "version": 3
   },
   "file_extension": ".py",
   "mimetype": "text/x-python",
   "name": "python",
   "nbconvert_exporter": "python",
   "pygments_lexer": "ipython3",
   "version": "3.7.3"
  }
 },
 "nbformat": 4,
 "nbformat_minor": 2
}
